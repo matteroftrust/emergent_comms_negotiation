{
 "cells": [
  {
   "cell_type": "code",
   "execution_count": null,
   "metadata": {
    "collapsed": true
   },
   "outputs": [],
   "source": [
    "import matplotlib.pyplot as plt\n",
    "import json\n",
    "import argparse\n",
    "import numpy as np\n",
    "import seaborn as sns\n",
    "\n",
    "sns.set()\n",
    "# plt.set\n",
    "# plt.figure.\n",
    "\n",
    "%matplotlib inline\n",
    "\n",
    "folder = 'final/'\n",
    "final = folder + 'log_20191027_140342final_memory-comp.log'\n"
   ]
  },
  {
   "cell_type": "code",
   "execution_count": null,
   "metadata": {
    "collapsed": true
   },
   "outputs": [],
   "source": [
    "def load_logs(filename):\n",
    "    epoch  = []\n",
    "    reward = []\n",
    "    test_reward = []\n",
    "    test_utterance = []\n",
    "    with open(filename, 'r') as f:\n",
    "        for n, line in enumerate(f):\n",
    "                    if n == 0:\n",
    "                        print(filename, line)\n",
    "                        continue  # skip first line\n",
    "                    line = line.strip()\n",
    "                    if line == '':\n",
    "                        continue\n",
    "                    d = json.loads(line)\n",
    "                    epoch.append(int(d['episode']))\n",
    "                    reward.append(float(d['avg_reward_0']))\n",
    "                    if 'test_reward' in d:\n",
    "                        test_reward.append(d['test_reward'])\n",
    "                    test_utterance.append(d['test_symbols_used'])\n",
    "    return epoch, reward, test_reward, test_utterance\n",
    "        "
   ]
  },
  {
   "cell_type": "code",
   "execution_count": null,
   "metadata": {},
   "outputs": [],
   "source": [
    "epoch, reward, test_reward, test_utterance = load_logs(final)\n",
    "\n",
    "test_utterance_per_position = [[{} for _ in range(6)] for _ in range(128)]\n",
    "for epoch in test_utterance:\n",
    "    for trajectory in epoch:\n",
    "        for i, utterance in enumerate(trajectory):\n",
    "            for j, symbol in enumerate(utterance):\n",
    "                symbol = str(symbol)\n",
    "                if symbol in test_utterance_per_position[i][j]:\n",
    "                    test_utterance_per_position[i][j][symbol] += 1\n",
    "                else:\n",
    "                    test_utterance_per_position[i][j][symbol] = 1\n",
    "                    \n",
    "            \n",
    "    "
   ]
  },
  {
   "cell_type": "code",
   "execution_count": null,
   "metadata": {},
   "outputs": [],
   "source": [
    "x = test_utterance_per_position[1]\n",
    "sorted_x = sorted(x.items(), key=lambda kv: kv[1], reverse=True)\n"
   ]
  },
  {
   "cell_type": "code",
   "execution_count": null,
   "metadata": {
    "collapsed": true
   },
   "outputs": [],
   "source": [
    "def get_x_positions(inner_no, outer_no, width=2, inner_width=0.2, outer_width=0.5):\n",
    "    \"\"\"\n",
    "    something is wrong with the way its interpreted by matplotlib\n",
    "    \"\"\"\n",
    "    positions = []\n",
    "    last = 0\n",
    "    for i in range(outer_no):\n",
    "\n",
    "        last += outer_width\n",
    "        inner_positions = [last]\n",
    "\n",
    "        for j in range(inner_no - 1):\n",
    "            last += width + inner_width\n",
    "            inner_positions.append(last)\n",
    "\n",
    "        last += width + outer_width\n",
    "        positions.append(inner_positions)\n",
    "    return positions\n",
    "        \n",
    "\n",
    "def plot_utterance(data, utterance_idx=0):\n",
    "    utterance_len = len(data[utterance_idx])\n",
    "    labels = [str(i) for i in range(6)]\n",
    "    width = 1.5\n",
    "    fig, ax = plt.subplots()\n",
    "    symbols = []\n",
    "    for i in range(utterance_len):\n",
    "        symbols_dict = data[utterance_idx][i]\n",
    "        symbols_distribution = np.array(list(symbols_dict.values()))  # TODO make sure its in the right order!\n",
    "\n",
    "        symbols_sum = sum(symbols_distribution)\n",
    "        symbols.append(symbols_distribution / symbols_sum)\n",
    "    symbols = np.array(symbols)\n",
    "    reacts = []\n",
    "    positions = get_x_positions(10, utterance_len)\n",
    "    \n",
    "    for i, symbol in enumerate(symbols):\n",
    "        l = positions[i]\n",
    "        reacts.append(ax.bar(l, symbol, width, label=str(i)))\n",
    "        \n",
    "    def autolabel(rects):\n",
    "        \"\"\"Attach a text label above each bar in *rects*, displaying its height.\n",
    "        from: https://matplotlib.org/3.1.1/gallery/lines_bars_and_markers/barchart.html#sphx-glr-gallery-lines-bars-and-markers-barchart-py\"\"\"\n",
    "        for rect in rects:\n",
    "            height = rect.get_height()\n",
    "            ax.annotate('{}'.format(height),\n",
    "                        xy=(rect.get_x() + rect.get_width() / 2, height),\n",
    "                        xytext=(0, 3),  # 3 points vertical offset\n",
    "                        textcoords=\"offset points\",\n",
    "                        ha='center', va='bottom')\n",
    "    \n",
    "#     for r in reacts:\n",
    "#         print(r)\n",
    "#         autolabel(r)\n",
    "        \n",
    "    ax.set_ylabel('Occurance')\n",
    "    ax.set_title('Symbols distribution in position')\n",
    "#     ax.set_xticks(np.arange(labels))\n",
    "    ax.set_xticklabels(labels)\n",
    "    fig.tight_layout()"
   ]
  },
  {
   "cell_type": "code",
   "execution_count": null,
   "metadata": {
    "scrolled": true
   },
   "outputs": [],
   "source": [
    "plot_utterance(test_utterance_per_position)"
   ]
  },
  {
   "cell_type": "code",
   "execution_count": null,
   "metadata": {},
   "outputs": [],
   "source": [
    "test_utterance_per_position"
   ]
  },
  {
   "cell_type": "code",
   "execution_count": null,
   "metadata": {
    "collapsed": true
   },
   "outputs": [],
   "source": []
  }
 ],
 "metadata": {
  "kernelspec": {
   "display_name": "Python 3",
   "language": "python",
   "name": "python3"
  },
  "language_info": {
   "codemirror_mode": {
    "name": "ipython",
    "version": 3
   },
   "file_extension": ".py",
   "mimetype": "text/x-python",
   "name": "python",
   "nbconvert_exporter": "python",
   "pygments_lexer": "ipython3",
   "version": "3.6.5"
  }
 },
 "nbformat": 4,
 "nbformat_minor": 2
}
